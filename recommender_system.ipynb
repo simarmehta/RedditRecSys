{
 "cells": [
  {
   "cell_type": "code",
   "execution_count": 1,
   "id": "c1af6bf5-404d-493d-805e-0eb9a3502ede",
   "metadata": {
    "tags": []
   },
   "outputs": [
    {
     "name": "stdout",
     "output_type": "stream",
     "text": [
      ":: loading settings :: url = jar:file:/opt/homebrew/lib/python3.11/site-packages/pyspark/jars/ivy-2.5.1.jar!/org/apache/ivy/core/settings/ivysettings.xml\n"
     ]
    },
    {
     "name": "stderr",
     "output_type": "stream",
     "text": [
      "Ivy Default Cache set to: /Users/dhaneshbaalaji/.ivy2/cache\n",
      "The jars for the packages stored in: /Users/dhaneshbaalaji/.ivy2/jars\n",
      "com.linkedin.sparktfrecord#spark-tfrecord_2.12 added as a dependency\n",
      ":: resolving dependencies :: org.apache.spark#spark-submit-parent-1f88d641-4ac1-4e3f-b468-67c9a3d74c78;1.0\n",
      "\tconfs: [default]\n",
      "\tfound com.linkedin.sparktfrecord#spark-tfrecord_2.12;0.6.0 in central\n",
      ":: resolution report :: resolve 73ms :: artifacts dl 1ms\n",
      "\t:: modules in use:\n",
      "\tcom.linkedin.sparktfrecord#spark-tfrecord_2.12;0.6.0 from central in [default]\n",
      "\t---------------------------------------------------------------------\n",
      "\t|                  |            modules            ||   artifacts   |\n",
      "\t|       conf       | number| search|dwnlded|evicted|| number|dwnlded|\n",
      "\t---------------------------------------------------------------------\n",
      "\t|      default     |   1   |   0   |   0   |   0   ||   1   |   0   |\n",
      "\t---------------------------------------------------------------------\n",
      ":: retrieving :: org.apache.spark#spark-submit-parent-1f88d641-4ac1-4e3f-b468-67c9a3d74c78\n",
      "\tconfs: [default]\n",
      "\t0 artifacts copied, 1 already retrieved (0kB/2ms)\n",
      "23/12/21 14:36:05 WARN NativeCodeLoader: Unable to load native-hadoop library for your platform... using builtin-java classes where applicable\n",
      "Setting default log level to \"WARN\".\n",
      "To adjust logging level use sc.setLogLevel(newLevel). For SparkR, use setLogLevel(newLevel).\n"
     ]
    },
    {
     "name": "stdout",
     "output_type": "stream",
     "text": [
      "The PySpark 3.5.0 version is running...\n"
     ]
    }
   ],
   "source": [
    "from pyspark import SparkConf, SparkContext\n",
    "from pyspark.sql import SparkSession\n",
    "from pyspark.sql.functions import *\n",
    "import matplotlib.pyplot as plt\n",
    "from pyspark.sql.types import *\n",
    "import pandas as pd\n",
    "\n",
    "conf = SparkConf().set(\"spark.jars.packages\", \"com.linkedin.sparktfrecord:spark-tfrecord_2.12:0.6.0\")\n",
    "sc = SparkContext(conf=conf)\n",
    "spark = SparkSession(sc)\n",
    "print(f'The PySpark {spark.version} version is running...')"
   ]
  },
  {
   "cell_type": "code",
   "execution_count": 2,
   "id": "e358f547-8e2c-4e00-9eb6-e97c7ac89df9",
   "metadata": {
    "tags": []
   },
   "outputs": [
    {
     "name": "stderr",
     "output_type": "stream",
     "text": [
      "                                                                                \r"
     ]
    },
    {
     "name": "stdout",
     "output_type": "stream",
     "text": [
      "root\n",
      " |-- normalizedBody: string (nullable = true)\n",
      " |-- subreddit_id: string (nullable = true)\n",
      " |-- subreddit: string (nullable = true)\n",
      " |-- summary: string (nullable = true)\n",
      " |-- body: string (nullable = true)\n",
      " |-- content: string (nullable = true)\n",
      " |-- author: string (nullable = true)\n",
      " |-- id: string (nullable = true)\n",
      "\n"
     ]
    }
   ],
   "source": [
    "# Directory containing TFRecord files and the JSON file\n",
    "tfrecord_dir = \"my_dataset/*\"\n",
    "\n",
    "reddit_data = spark.read.format(\"tfrecord\") \\\n",
    "    .option(\"recordType\", \"Example\") \\\n",
    "    .option(\"pathGlobFilter\", \"*.tfrecord-*\") \\\n",
    "    .load(tfrecord_dir)\n",
    "\n",
    "reddit_data.printSchema()"
   ]
  },
  {
   "cell_type": "markdown",
   "id": "36d796b0-8c1c-4335-ba74-d569defc591f",
   "metadata": {},
   "source": [
    "### Using Summary field of the dataset to do Content matching based on user input\n",
    "\n",
    "#### Pipeline: TF IDF Vectorization + Cosine Similarity"
   ]
  },
  {
   "cell_type": "code",
   "execution_count": 3,
   "id": "b4f192bd-9773-4b8f-b208-d020ab07c370",
   "metadata": {
    "tags": []
   },
   "outputs": [],
   "source": [
    "# All Imports\n",
    "from pyspark.ml.feature import Tokenizer, StopWordsRemover\n",
    "from pyspark.sql.functions import udf, col, expr\n",
    "from pyspark.sql.types import IntegerType, FloatType\n",
    "from pyspark.ml.feature import HashingTF, IDF\n",
    "from pyspark.ml.linalg import SparseVector\n",
    "import numpy as np\n",
    "\n",
    "# Text Normalization - Convert text to lowercase and remove punctuation\n",
    "reddit_data = reddit_data.withColumn(\"summary\", lower(col(\"summary\")))\n",
    "reddit_data = reddit_data.withColumn(\"summary\", regexp_replace(col(\"summary\"), \"[^a-zA-Z\\\\s]\", \"\"))"
   ]
  },
  {
   "cell_type": "code",
   "execution_count": 4,
   "id": "23809ef8-90f6-4ee6-aac7-83e60fdd2ed2",
   "metadata": {
    "tags": []
   },
   "outputs": [],
   "source": [
    "# Text Tokenization\n",
    "tokenizer = Tokenizer(inputCol=\"summary\", outputCol=\"summary_words\")\n",
    "reddit_data = tokenizer.transform(reddit_data)"
   ]
  },
  {
   "cell_type": "code",
   "execution_count": 5,
   "id": "32b201f8-b06a-434d-95e3-d703d268afa6",
   "metadata": {
    "tags": []
   },
   "outputs": [],
   "source": [
    "# Remove stop words - set of commonly used words in a language('a', 'the')\n",
    "remover = StopWordsRemover(inputCol=\"summary_words\", outputCol=\"filtered_summary\")\n",
    "reddit_data = remover.transform(reddit_data)"
   ]
  },
  {
   "cell_type": "code",
   "execution_count": 6,
   "id": "2db3d099-c99b-470a-a57b-6e8677c4e851",
   "metadata": {
    "tags": []
   },
   "outputs": [
    {
     "name": "stdout",
     "output_type": "stream",
     "text": [
      "+----------------------------------------------------------------------------------------------------------------------------------------------+\n",
      "|filtered_summary                                                                                                                              |\n",
      "+----------------------------------------------------------------------------------------------------------------------------------------------+\n",
      "|[cheated, long, time, platonic, friend, married, wife, found, told, three, years, later, still, dealing, fallout, many, regrets]              |\n",
      "|[kids, swim, make, sound, go, , , edit, zomg, reddit, gold, holy, crap, thanks]                                                               |\n",
      "|[opiates, give, powerful, burst, reward, chemicals, hence, rendering, non, drug, accomplishments, obsolete]                                   |\n",
      "|[sure, im, overreacting, want, bf, show, desire, see, hes, leavingdo, something, hes, talking, sure, end]                                     |\n",
      "|[title, post]                                                                                                                                 |\n",
      "|[xr, heroine, acid, course]                                                                                                                   |\n",
      "|[wits, end, want, keep, house, things, maintained, thinks, im, pointing, negative, attributes]                                                |\n",
      "|[motorcycle, never, truck, shouldnt, try, haul, boat, ducati]                                                                                 |\n",
      "|[sorry, youre, hurt, overreacting, porn, , cheating, doesnt, still, painful, youre, warranted, feelings, , going, dont, play, victim, anymore]|\n",
      "|[tell, someone, go, fuck, havent, done, anything, specific, make, angry, youre, sick, face]                                                   |\n",
      "+----------------------------------------------------------------------------------------------------------------------------------------------+\n",
      "only showing top 10 rows\n",
      "\n"
     ]
    }
   ],
   "source": [
    "# Displaying Dataset after removing \n",
    "reddit_data.select(\"filtered_summary\").show(10, truncate = False)"
   ]
  },
  {
   "cell_type": "code",
   "execution_count": 7,
   "id": "aea57776-1e91-4fa8-8cc7-61b8d85607c4",
   "metadata": {
    "tags": []
   },
   "outputs": [],
   "source": [
    "# Removing NAs and Duplicates\n",
    "reddit_data = reddit_data.na.drop(subset=[\"filtered_summary\"])\n",
    "reddit_data = reddit_data.dropDuplicates([\"filtered_summary\"])\n",
    "\n",
    "# Selecting only the required fields\n",
    "reddit_data = reddit_data.select(\"subreddit\",\"summary\",\"filtered_summary\")\n",
    "\n",
    "# Cleaning the final output array after preprocessing, removing any empty strings/ nulls\n",
    "reddit_data = reddit_data.withColumn(\"cleaned_array\", expr(\"filter(filtered_summary, x -> x is not null and trim(x) <> '')\"))\n",
    "\n",
    "# Selecting only the required fields\n",
    "cleaned_reddit_data = reddit_data.select(\"subreddit\",\"cleaned_array\")"
   ]
  },
  {
   "cell_type": "code",
   "execution_count": 8,
   "id": "bc43eefc",
   "metadata": {},
   "outputs": [
    {
     "name": "stderr",
     "output_type": "stream",
     "text": [
      "23/12/21 14:36:15 WARN GarbageCollectionMetrics: To enable non-built-in garbage collector(s) List(G1 Concurrent GC), users should configure it(them) to spark.eventLog.gcMetrics.youngGenerationGarbageCollectors or spark.eventLog.gcMetrics.oldGenerationGarbageCollectors\n",
      "[Stage 6:====================================================>    (11 + 1) / 12]\r"
     ]
    },
    {
     "name": "stdout",
     "output_type": "stream",
     "text": [
      "+--------------------+----------------------------------------------------------------------------------------------------------------------------------------------------------------------------------------------------------+----------+\n",
      "|subreddit           |cleaned_array                                                                                                                                                                                             |word_count|\n",
      "+--------------------+----------------------------------------------------------------------------------------------------------------------------------------------------------------------------------------------------------+----------+\n",
      "|brisbane            |[aa, credit, rating, scared, current, debt, forecasts, placed, full, economic, context]                                                                                                                   |11        |\n",
      "|seduction           |[aa, disappearing, conversation, skills, preventing, closing]                                                                                                                                             |6         |\n",
      "|stopdrinking        |[aa, done, wonders, snap, judgments, people, hours, ps, also, unsolicited, friendly, conversation, elderly, man, line, movies, yesterday, old, balked, prospect, simply, shyness, anxiety]                |23        |\n",
      "|AskReddit           |[aa, ea, lol, unless, say, loll, usa, acronym, may, sound, sophisticated, abbreviation, used, incorrectly, time, ok, back, thread, something, youre, snobby]                                              |21        |\n",
      "|learndota2          |[aa, freezes, faces, surprisingly, fun, edit, believe, video]                                                                                                                                             |8         |\n",
      "|femalefashionadvice |[aa, gap, used, get, past, skeezy, stuff, plain, basics]                                                                                                                                                  |9         |\n",
      "|baseball            |[aa, gets, ways, much, undeserved, hate, placed, kevin, towersruben, amarojack, zs, world]                                                                                                                |12        |\n",
      "|battlefield_4       |[aa, launchers, need, damage, repair, monkeys, choppers]                                                                                                                                                  |7         |\n",
      "|bigboobproblems     |[aa, matter, way, say, sounds, absurd]                                                                                                                                                                    |6         |\n",
      "|summonerschool      |[aa, physical, unless, items, like, madredsbloodrazor, witsend]                                                                                                                                           |7         |\n",
      "|atheism             |[aa, program, works, im, atheist, aa, members, dont, care, edit, fixed, awkward, sentences]                                                                                                               |13        |\n",
      "|battlefield_4       |[aa, tanks, pretty, op, right, set]                                                                                                                                                                       |6         |\n",
      "|Omaha               |[aaa, cpc, inconsiderate, health, body, pregnancy, treat, like, heathen, looking, case, proceeded, text, call, bible, verses, following, day, though, requested, contact, regarding, std, results, pissed]|25        |\n",
      "|smashbros           |[aaa, game, made, years, two, different, platforms, dont, expect, miracles]                                                                                                                               |10        |\n",
      "|Games               |[aaa, games, light, shows, choose, style, substance, hurting, development, industry]                                                                                                                      |10        |\n",
      "|Games               |[aaa, means, dlc, deal, depends, done, dont, preorder, anything, anybody, overall, cdpr, heroes, villains, honest, though, imho]                                                                          |17        |\n",
      "|xboxone             |[aaa, needs, players, even, survive, widening, appeal, makes, financial, social, sense]                                                                                                                   |11        |\n",
      "|xboxone             |[aaa, titles, released, major, bugs, consumerspeople, gaming, subs, defending]                                                                                                                            |9         |\n",
      "|talesfromtechsupport|[aaaaaaaaaaaaaaaaaaaaaaaaaaaaaaaaaaaaaah]                                                                                                                                                                 |1         |\n",
      "|biology             |[aaaaaaaaaaaaaaaaaaaaaaaaaahhhhhhhhhhhhhh]                                                                                                                                                                |1         |\n",
      "+--------------------+----------------------------------------------------------------------------------------------------------------------------------------------------------------------------------------------------------+----------+\n",
      "only showing top 20 rows\n",
      "\n"
     ]
    },
    {
     "name": "stderr",
     "output_type": "stream",
     "text": [
      "                                                                                \r"
     ]
    }
   ],
   "source": [
    "# Python function to return count of an array\n",
    "def word_count(textarray):\n",
    "    return len(textarray)\n",
    "\n",
    "# Creating a Spark UDF based on the python function\n",
    "word_count_udf = udf(word_count, IntegerType())\n",
    "\n",
    "# Removing Empty arrays from the dataset\n",
    "cleaned_reddit_data = cleaned_reddit_data.withColumn(\"word_count\", word_count_udf(cleaned_reddit_data[\"cleaned_array\"]))\n",
    "cleaned_reddit_data = cleaned_reddit_data.filter(cleaned_reddit_data[\"word_count\"] > 0)\n",
    "cleaned_reddit_data = cleaned_reddit_data.dropDuplicates([\"cleaned_array\"])\n",
    "cleaned_reddit_data.show(truncate=False)"
   ]
  },
  {
   "cell_type": "code",
   "execution_count": 9,
   "id": "508d1fba-37b6-4ffe-b935-bd0fd9bbe07a",
   "metadata": {
    "tags": []
   },
   "outputs": [],
   "source": [
    "# Create 100k features out of the data - this number was selected based on the scale of the whole dataset\n",
    "hashingTF = HashingTF(inputCol=\"cleaned_array\", outputCol=\"rawFeatures_summary\", numFeatures=100000)\n",
    "featurizedData = hashingTF.transform(cleaned_reddit_data)"
   ]
  },
  {
   "cell_type": "code",
   "execution_count": 10,
   "id": "7b6ac594-a9b3-4d32-b5e3-f65a50473bf7",
   "metadata": {
    "tags": []
   },
   "outputs": [
    {
     "name": "stderr",
     "output_type": "stream",
     "text": [
      "                                                                                \r"
     ]
    }
   ],
   "source": [
    "# Create IDF vectors based on the features \n",
    "idf = IDF(inputCol=\"rawFeatures_summary\", outputCol=\"features_summary\")\n",
    "idfModel = idf.fit(featurizedData)\n",
    "rescaledData = idfModel.transform(featurizedData)"
   ]
  },
  {
   "cell_type": "code",
   "execution_count": 12,
   "id": "c055d6ea",
   "metadata": {},
   "outputs": [
    {
     "name": "stderr",
     "output_type": "stream",
     "text": [
      "23/12/21 14:40:35 WARN DAGScheduler: Broadcasting large task binary with size 1636.9 KiB\n"
     ]
    },
    {
     "name": "stdout",
     "output_type": "stream",
     "text": [
      "+---------+---------------------------------------------------------------------------------------+--------------------------------------------------------------------------------------------------------------------------------------------------------------------------------------------------------------------------------------------------------------------------------------+\n",
      "|subreddit|cleaned_array                                                                          |features_summary                                                                                                                                                                                                                                                                      |\n",
      "+---------+---------------------------------------------------------------------------------------+--------------------------------------------------------------------------------------------------------------------------------------------------------------------------------------------------------------------------------------------------------------------------------------+\n",
      "|brisbane |[aa, credit, rating, scared, current, debt, forecasts, placed, full, economic, context]|(100000,[22694,29426,29614,31030,54043,68897,69144,71611,79189,91751,99766],[6.430563922533762,5.4500793188447645,6.365853121268278,7.357072078129139,7.616438230463633,4.875107087595925,7.015391496400788,4.306764261237558,5.071338358092688,5.952131921659651,11.246718934827781])|\n",
      "+---------+---------------------------------------------------------------------------------------+--------------------------------------------------------------------------------------------------------------------------------------------------------------------------------------------------------------------------------------------------------------------------------------+\n",
      "only showing top 1 row\n",
      "\n"
     ]
    },
    {
     "name": "stderr",
     "output_type": "stream",
     "text": [
      "                                                                                \r"
     ]
    }
   ],
   "source": [
    "# Display the rescaled data after creating TF-IDF vectors from the features\n",
    "rescaledData.select(\"subreddit\", \"cleaned_array\", \"features_summary\").show(1, truncate=False)"
   ]
  },
  {
   "cell_type": "code",
   "execution_count": 25,
   "id": "f69bca5d",
   "metadata": {},
   "outputs": [
    {
     "name": "stdout",
     "output_type": "stream",
     "text": [
      "+----------+-------------+----------------+-------------+\n",
      "|   summary|summary_words|filtered_summary|cleaned_array|\n",
      "+----------+-------------+----------------+-------------+\n",
      "|Mclaren F1|[mclaren, f1]|   [mclaren, f1]|[mclaren, f1]|\n",
      "+----------+-------------+----------------+-------------+\n",
      "\n"
     ]
    }
   ],
   "source": [
    "# User Query\n",
    "user_query = \"Mclaren F1\"\n",
    "query_df = spark.createDataFrame([(user_query,)], [\"summary\"])\n",
    "\n",
    "# Preprocessing steps for the user query\n",
    "query_wordsData = tokenizer.transform(query_df)\n",
    "query_wordsData_rem = remover.transform(query_wordsData)\n",
    "query_wordsData_rem = query_wordsData_rem.withColumn(\"cleaned_array\", col('filtered_summary'))\n",
    "query_wordsData_rem.show()"
   ]
  },
  {
   "cell_type": "code",
   "execution_count": 26,
   "id": "739017df",
   "metadata": {},
   "outputs": [
    {
     "name": "stdout",
     "output_type": "stream",
     "text": [
      "+----------+-------------+----------------+-------------+--------------------+--------------------+\n",
      "|   summary|summary_words|filtered_summary|cleaned_array| rawFeatures_summary|    features_summary|\n",
      "+----------+-------------+----------------+-------------+--------------------+--------------------+\n",
      "|Mclaren F1|[mclaren, f1]|   [mclaren, f1]|[mclaren, f1]|(100000,[39908,89...|(100000,[39908,89...|\n",
      "+----------+-------------+----------------+-------------+--------------------+--------------------+\n",
      "\n"
     ]
    },
    {
     "name": "stderr",
     "output_type": "stream",
     "text": [
      "23/12/21 15:54:38 WARN DAGScheduler: Broadcasting large task binary with size 1617.3 KiB\n",
      "23/12/21 15:54:38 WARN DAGScheduler: Broadcasting large task binary with size 1617.3 KiB\n",
      "23/12/21 15:54:38 WARN DAGScheduler: Broadcasting large task binary with size 1617.3 KiB\n"
     ]
    }
   ],
   "source": [
    "# Create TF-IDF vectors from the input user query\n",
    "featurizedData_user = hashingTF.transform(query_wordsData_rem)\n",
    "rescaledData_user = idfModel.transform(featurizedData_user)\n",
    "rescaledData_user.show()"
   ]
  },
  {
   "cell_type": "code",
   "execution_count": 27,
   "id": "125b8a62-2417-42ef-9c9d-86f5d78e4824",
   "metadata": {
    "tags": []
   },
   "outputs": [
    {
     "name": "stderr",
     "output_type": "stream",
     "text": [
      "23/12/21 15:54:39 WARN DAGScheduler: Broadcasting large task binary with size 1612.0 KiB\n"
     ]
    }
   ],
   "source": [
    "# Fetching the input query vector\n",
    "input_features = rescaledData_user.select(\"features_summary\").collect()[0][\"features_summary\"]\n",
    "\n",
    "# Broadcast this vector to all Spark nodes for efficient processing while calculating cosine similarity\n",
    "broadcast_input_features = spark.sparkContext.broadcast(input_features)"
   ]
  },
  {
   "cell_type": "code",
   "execution_count": 28,
   "id": "bacf0a20",
   "metadata": {},
   "outputs": [],
   "source": [
    "# Defining python function to calculate Cosine similarity\n",
    "def cosine_similarity(vec1):\n",
    "    # Fetch the broadcasted input feature vector\n",
    "    vec2 = broadcast_input_features.value\n",
    "\n",
    "    # Convert vectors to arrays for cosine similarity calculation\n",
    "    vec1_array = np.array(vec1.toArray()) if isinstance(vec1, SparseVector) else vec1\n",
    "    vec2_array = np.array(vec2.toArray()) if isinstance(vec2, SparseVector) else vec2\n",
    "\n",
    "    # Compute cosine similarity\n",
    "    return float(np.dot(vec1_array, vec2_array) / (np.linalg.norm(vec1_array) * np.linalg.norm(vec2_array)))\n",
    "\n",
    "# Spark UDF for Cosine similarity\n",
    "cosine_similarity_udf = udf(cosine_similarity, FloatType())"
   ]
  },
  {
   "cell_type": "code",
   "execution_count": 29,
   "id": "b5b2a364",
   "metadata": {},
   "outputs": [
    {
     "name": "stderr",
     "output_type": "stream",
     "text": [
      "23/12/21 15:55:27 WARN DAGScheduler: Broadcasting large task binary with size 1643.0 KiB\n",
      "[Stage 84:==================================================>     (10 + 1) / 11]\r"
     ]
    },
    {
     "name": "stdout",
     "output_type": "stream",
     "text": [
      "+------------+-----------------+\n",
      "|subreddit   |cosine_similarity|\n",
      "+------------+-----------------+\n",
      "|formula1    |0.5814076        |\n",
      "|formula1    |0.5437984        |\n",
      "|cars        |0.5227868        |\n",
      "|formula1    |0.5049425        |\n",
      "|formula1    |0.48110324       |\n",
      "|gaming      |0.4601885        |\n",
      "|VirtualWDCPC|0.44697332       |\n",
      "|formula1    |0.43953624       |\n",
      "|spikes      |0.43941042       |\n",
      "|formula1    |0.43439627       |\n",
      "+------------+-----------------+\n",
      "\n"
     ]
    },
    {
     "name": "stderr",
     "output_type": "stream",
     "text": [
      "                                                                                \r"
     ]
    }
   ],
   "source": [
    "# Apply the cosine similarity UDF to the Reddit DataFrame\n",
    "reddit_data_with_similarity = rescaledData.withColumn(\"cosine_similarity\", cosine_similarity_udf(col(\"features_summary\")))\n",
    "top_n = 10  # Number of top reddit content matches across various subreddits\n",
    "top_recommendations = reddit_data_with_similarity.orderBy(\"cosine_similarity\", ascending=False).limit(top_n)\n",
    "top_recommendations.select(\"subreddit\", \"cosine_similarity\").show(truncate=False)"
   ]
  },
  {
   "cell_type": "code",
   "execution_count": 30,
   "id": "c126db1b",
   "metadata": {},
   "outputs": [
    {
     "name": "stderr",
     "output_type": "stream",
     "text": [
      "23/12/21 15:59:28 WARN DAGScheduler: Broadcasting large task binary with size 1639.1 KiB\n",
      "/var/folders/s5/94w1m15n4zj0rk7rcz62xbv00000gn/T/ipykernel_3833/589877821.py:11: RuntimeWarning: invalid value encountered in scalar divide\n",
      "/var/folders/s5/94w1m15n4zj0rk7rcz62xbv00000gn/T/ipykernel_3833/589877821.py:11: RuntimeWarning: invalid value encountered in scalar divide\n",
      "/var/folders/s5/94w1m15n4zj0rk7rcz62xbv00000gn/T/ipykernel_3833/589877821.py:11: RuntimeWarning: invalid value encountered in scalar divide\n",
      "/var/folders/s5/94w1m15n4zj0rk7rcz62xbv00000gn/T/ipykernel_3833/589877821.py:11: RuntimeWarning: invalid value encountered in scalar divide\n",
      "/var/folders/s5/94w1m15n4zj0rk7rcz62xbv00000gn/T/ipykernel_3833/589877821.py:11: RuntimeWarning: invalid value encountered in scalar divide\n",
      "/var/folders/s5/94w1m15n4zj0rk7rcz62xbv00000gn/T/ipykernel_3833/589877821.py:11: RuntimeWarning: invalid value encountered in scalar divide\n",
      "/var/folders/s5/94w1m15n4zj0rk7rcz62xbv00000gn/T/ipykernel_3833/589877821.py:11: RuntimeWarning: invalid value encountered in scalar divide\n",
      "/var/folders/s5/94w1m15n4zj0rk7rcz62xbv00000gn/T/ipykernel_3833/589877821.py:11: RuntimeWarning: invalid value encountered in scalar divide\n",
      "/var/folders/s5/94w1m15n4zj0rk7rcz62xbv00000gn/T/ipykernel_3833/589877821.py:11: RuntimeWarning: invalid value encountered in scalar divide\n",
      "/var/folders/s5/94w1m15n4zj0rk7rcz62xbv00000gn/T/ipykernel_3833/589877821.py:11: RuntimeWarning: invalid value encountered in scalar divide\n",
      "/var/folders/s5/94w1m15n4zj0rk7rcz62xbv00000gn/T/ipykernel_3833/589877821.py:11: RuntimeWarning: invalid value encountered in scalar divide\n",
      "/var/folders/s5/94w1m15n4zj0rk7rcz62xbv00000gn/T/ipykernel_3833/589877821.py:11: RuntimeWarning: invalid value encountered in scalar divide\n",
      "/var/folders/s5/94w1m15n4zj0rk7rcz62xbv00000gn/T/ipykernel_3833/589877821.py:11: RuntimeWarning: invalid value encountered in scalar divide\n",
      "/var/folders/s5/94w1m15n4zj0rk7rcz62xbv00000gn/T/ipykernel_3833/589877821.py:11: RuntimeWarning: invalid value encountered in scalar divide\n",
      "/var/folders/s5/94w1m15n4zj0rk7rcz62xbv00000gn/T/ipykernel_3833/589877821.py:11: RuntimeWarning: invalid value encountered in scalar divide\n",
      "/var/folders/s5/94w1m15n4zj0rk7rcz62xbv00000gn/T/ipykernel_3833/589877821.py:11: RuntimeWarning: invalid value encountered in scalar divide\n",
      "/var/folders/s5/94w1m15n4zj0rk7rcz62xbv00000gn/T/ipykernel_3833/589877821.py:11: RuntimeWarning: invalid value encountered in scalar divide\n",
      "/var/folders/s5/94w1m15n4zj0rk7rcz62xbv00000gn/T/ipykernel_3833/589877821.py:11: RuntimeWarning: invalid value encountered in scalar divide\n",
      "/var/folders/s5/94w1m15n4zj0rk7rcz62xbv00000gn/T/ipykernel_3833/589877821.py:11: RuntimeWarning: invalid value encountered in scalar divide\n",
      "/var/folders/s5/94w1m15n4zj0rk7rcz62xbv00000gn/T/ipykernel_3833/589877821.py:11: RuntimeWarning: invalid value encountered in scalar divide\n",
      "/var/folders/s5/94w1m15n4zj0rk7rcz62xbv00000gn/T/ipykernel_3833/589877821.py:11: RuntimeWarning: invalid value encountered in scalar divide\n",
      "/var/folders/s5/94w1m15n4zj0rk7rcz62xbv00000gn/T/ipykernel_3833/589877821.py:11: RuntimeWarning: invalid value encountered in scalar divide\n",
      "/var/folders/s5/94w1m15n4zj0rk7rcz62xbv00000gn/T/ipykernel_3833/589877821.py:11: RuntimeWarning: invalid value encountered in scalar divide\n",
      "/var/folders/s5/94w1m15n4zj0rk7rcz62xbv00000gn/T/ipykernel_3833/589877821.py:11: RuntimeWarning: invalid value encountered in scalar divide\n",
      "/var/folders/s5/94w1m15n4zj0rk7rcz62xbv00000gn/T/ipykernel_3833/589877821.py:11: RuntimeWarning: invalid value encountered in scalar divide\n",
      "/var/folders/s5/94w1m15n4zj0rk7rcz62xbv00000gn/T/ipykernel_3833/589877821.py:11: RuntimeWarning: invalid value encountered in scalar divide\n",
      "/var/folders/s5/94w1m15n4zj0rk7rcz62xbv00000gn/T/ipykernel_3833/589877821.py:11: RuntimeWarning: invalid value encountered in scalar divide\n",
      "/var/folders/s5/94w1m15n4zj0rk7rcz62xbv00000gn/T/ipykernel_3833/589877821.py:11: RuntimeWarning: invalid value encountered in scalar divide\n",
      "/var/folders/s5/94w1m15n4zj0rk7rcz62xbv00000gn/T/ipykernel_3833/589877821.py:11: RuntimeWarning: invalid value encountered in scalar divide\n",
      "/var/folders/s5/94w1m15n4zj0rk7rcz62xbv00000gn/T/ipykernel_3833/589877821.py:11: RuntimeWarning: invalid value encountered in scalar divide\n",
      "/var/folders/s5/94w1m15n4zj0rk7rcz62xbv00000gn/T/ipykernel_3833/589877821.py:11: RuntimeWarning: invalid value encountered in scalar divide\n",
      "/var/folders/s5/94w1m15n4zj0rk7rcz62xbv00000gn/T/ipykernel_3833/589877821.py:11: RuntimeWarning: invalid value encountered in scalar divide\n",
      "/var/folders/s5/94w1m15n4zj0rk7rcz62xbv00000gn/T/ipykernel_3833/589877821.py:11: RuntimeWarning: invalid value encountered in scalar divide\n",
      "/var/folders/s5/94w1m15n4zj0rk7rcz62xbv00000gn/T/ipykernel_3833/589877821.py:11: RuntimeWarning: invalid value encountered in scalar divide\n",
      "/var/folders/s5/94w1m15n4zj0rk7rcz62xbv00000gn/T/ipykernel_3833/589877821.py:11: RuntimeWarning: invalid value encountered in scalar divide\n",
      "/var/folders/s5/94w1m15n4zj0rk7rcz62xbv00000gn/T/ipykernel_3833/589877821.py:11: RuntimeWarning: invalid value encountered in scalar divide\n",
      "/var/folders/s5/94w1m15n4zj0rk7rcz62xbv00000gn/T/ipykernel_3833/589877821.py:11: RuntimeWarning: invalid value encountered in scalar divide\n",
      "/var/folders/s5/94w1m15n4zj0rk7rcz62xbv00000gn/T/ipykernel_3833/589877821.py:11: RuntimeWarning: invalid value encountered in scalar divide\n",
      "/var/folders/s5/94w1m15n4zj0rk7rcz62xbv00000gn/T/ipykernel_3833/589877821.py:11: RuntimeWarning: invalid value encountered in scalar divide\n",
      "/var/folders/s5/94w1m15n4zj0rk7rcz62xbv00000gn/T/ipykernel_3833/589877821.py:11: RuntimeWarning: invalid value encountered in scalar divide\n",
      "/var/folders/s5/94w1m15n4zj0rk7rcz62xbv00000gn/T/ipykernel_3833/589877821.py:11: RuntimeWarning: invalid value encountered in scalar divide\n",
      "/var/folders/s5/94w1m15n4zj0rk7rcz62xbv00000gn/T/ipykernel_3833/589877821.py:11: RuntimeWarning: invalid value encountered in scalar divide\n",
      "/var/folders/s5/94w1m15n4zj0rk7rcz62xbv00000gn/T/ipykernel_3833/589877821.py:11: RuntimeWarning: invalid value encountered in scalar divide\n",
      "/var/folders/s5/94w1m15n4zj0rk7rcz62xbv00000gn/T/ipykernel_3833/589877821.py:11: RuntimeWarning: invalid value encountered in scalar divide\n",
      "/var/folders/s5/94w1m15n4zj0rk7rcz62xbv00000gn/T/ipykernel_3833/589877821.py:11: RuntimeWarning: invalid value encountered in scalar divide\n",
      "/var/folders/s5/94w1m15n4zj0rk7rcz62xbv00000gn/T/ipykernel_3833/589877821.py:11: RuntimeWarning: invalid value encountered in scalar divide\n",
      "/var/folders/s5/94w1m15n4zj0rk7rcz62xbv00000gn/T/ipykernel_3833/589877821.py:11: RuntimeWarning: invalid value encountered in scalar divide\n",
      "/var/folders/s5/94w1m15n4zj0rk7rcz62xbv00000gn/T/ipykernel_3833/589877821.py:11: RuntimeWarning: invalid value encountered in scalar divide\n",
      "/var/folders/s5/94w1m15n4zj0rk7rcz62xbv00000gn/T/ipykernel_3833/589877821.py:11: RuntimeWarning: invalid value encountered in scalar divide\n",
      "/var/folders/s5/94w1m15n4zj0rk7rcz62xbv00000gn/T/ipykernel_3833/589877821.py:11: RuntimeWarning: invalid value encountered in scalar divide\n",
      "/var/folders/s5/94w1m15n4zj0rk7rcz62xbv00000gn/T/ipykernel_3833/589877821.py:11: RuntimeWarning: invalid value encountered in scalar divide\n",
      "/var/folders/s5/94w1m15n4zj0rk7rcz62xbv00000gn/T/ipykernel_3833/589877821.py:11: RuntimeWarning: invalid value encountered in scalar divide\n",
      "/var/folders/s5/94w1m15n4zj0rk7rcz62xbv00000gn/T/ipykernel_3833/589877821.py:11: RuntimeWarning: invalid value encountered in scalar divide\n",
      "/var/folders/s5/94w1m15n4zj0rk7rcz62xbv00000gn/T/ipykernel_3833/589877821.py:11: RuntimeWarning: invalid value encountered in scalar divide\n",
      "/var/folders/s5/94w1m15n4zj0rk7rcz62xbv00000gn/T/ipykernel_3833/589877821.py:11: RuntimeWarning: invalid value encountered in scalar divide\n",
      "/var/folders/s5/94w1m15n4zj0rk7rcz62xbv00000gn/T/ipykernel_3833/589877821.py:11: RuntimeWarning: invalid value encountered in scalar divide\n",
      "/var/folders/s5/94w1m15n4zj0rk7rcz62xbv00000gn/T/ipykernel_3833/589877821.py:11: RuntimeWarning: invalid value encountered in scalar divide\n",
      "/var/folders/s5/94w1m15n4zj0rk7rcz62xbv00000gn/T/ipykernel_3833/589877821.py:11: RuntimeWarning: invalid value encountered in scalar divide\n",
      "/var/folders/s5/94w1m15n4zj0rk7rcz62xbv00000gn/T/ipykernel_3833/589877821.py:11: RuntimeWarning: invalid value encountered in scalar divide\n",
      "/var/folders/s5/94w1m15n4zj0rk7rcz62xbv00000gn/T/ipykernel_3833/589877821.py:11: RuntimeWarning: invalid value encountered in scalar divide\n",
      "/var/folders/s5/94w1m15n4zj0rk7rcz62xbv00000gn/T/ipykernel_3833/589877821.py:11: RuntimeWarning: invalid value encountered in scalar divide\n",
      "/var/folders/s5/94w1m15n4zj0rk7rcz62xbv00000gn/T/ipykernel_3833/589877821.py:11: RuntimeWarning: invalid value encountered in scalar divide\n",
      "/var/folders/s5/94w1m15n4zj0rk7rcz62xbv00000gn/T/ipykernel_3833/589877821.py:11: RuntimeWarning: invalid value encountered in scalar divide\n",
      "/var/folders/s5/94w1m15n4zj0rk7rcz62xbv00000gn/T/ipykernel_3833/589877821.py:11: RuntimeWarning: invalid value encountered in scalar divide\n",
      "/var/folders/s5/94w1m15n4zj0rk7rcz62xbv00000gn/T/ipykernel_3833/589877821.py:11: RuntimeWarning: invalid value encountered in scalar divide\n",
      "/var/folders/s5/94w1m15n4zj0rk7rcz62xbv00000gn/T/ipykernel_3833/589877821.py:11: RuntimeWarning: invalid value encountered in scalar divide\n",
      "/var/folders/s5/94w1m15n4zj0rk7rcz62xbv00000gn/T/ipykernel_3833/589877821.py:11: RuntimeWarning: invalid value encountered in scalar divide\n",
      "/var/folders/s5/94w1m15n4zj0rk7rcz62xbv00000gn/T/ipykernel_3833/589877821.py:11: RuntimeWarning: invalid value encountered in scalar divide\n",
      "/var/folders/s5/94w1m15n4zj0rk7rcz62xbv00000gn/T/ipykernel_3833/589877821.py:11: RuntimeWarning: invalid value encountered in scalar divide\n",
      "/var/folders/s5/94w1m15n4zj0rk7rcz62xbv00000gn/T/ipykernel_3833/589877821.py:11: RuntimeWarning: invalid value encountered in scalar divide\n",
      "/var/folders/s5/94w1m15n4zj0rk7rcz62xbv00000gn/T/ipykernel_3833/589877821.py:11: RuntimeWarning: invalid value encountered in scalar divide\n",
      "/var/folders/s5/94w1m15n4zj0rk7rcz62xbv00000gn/T/ipykernel_3833/589877821.py:11: RuntimeWarning: invalid value encountered in scalar divide\n",
      "/var/folders/s5/94w1m15n4zj0rk7rcz62xbv00000gn/T/ipykernel_3833/589877821.py:11: RuntimeWarning: invalid value encountered in scalar divide\n",
      "/var/folders/s5/94w1m15n4zj0rk7rcz62xbv00000gn/T/ipykernel_3833/589877821.py:11: RuntimeWarning: invalid value encountered in scalar divide\n",
      "/var/folders/s5/94w1m15n4zj0rk7rcz62xbv00000gn/T/ipykernel_3833/589877821.py:11: RuntimeWarning: invalid value encountered in scalar divide\n",
      "/var/folders/s5/94w1m15n4zj0rk7rcz62xbv00000gn/T/ipykernel_3833/589877821.py:11: RuntimeWarning: invalid value encountered in scalar divide\n",
      "/var/folders/s5/94w1m15n4zj0rk7rcz62xbv00000gn/T/ipykernel_3833/589877821.py:11: RuntimeWarning: invalid value encountered in scalar divide\n",
      "/var/folders/s5/94w1m15n4zj0rk7rcz62xbv00000gn/T/ipykernel_3833/589877821.py:11: RuntimeWarning: invalid value encountered in scalar divide\n",
      "/var/folders/s5/94w1m15n4zj0rk7rcz62xbv00000gn/T/ipykernel_3833/589877821.py:11: RuntimeWarning: invalid value encountered in scalar divide\n",
      "/var/folders/s5/94w1m15n4zj0rk7rcz62xbv00000gn/T/ipykernel_3833/589877821.py:11: RuntimeWarning: invalid value encountered in scalar divide\n",
      "/var/folders/s5/94w1m15n4zj0rk7rcz62xbv00000gn/T/ipykernel_3833/589877821.py:11: RuntimeWarning: invalid value encountered in scalar divide\n",
      "/var/folders/s5/94w1m15n4zj0rk7rcz62xbv00000gn/T/ipykernel_3833/589877821.py:11: RuntimeWarning: invalid value encountered in scalar divide\n",
      "/var/folders/s5/94w1m15n4zj0rk7rcz62xbv00000gn/T/ipykernel_3833/589877821.py:11: RuntimeWarning: invalid value encountered in scalar divide\n",
      "/var/folders/s5/94w1m15n4zj0rk7rcz62xbv00000gn/T/ipykernel_3833/589877821.py:11: RuntimeWarning: invalid value encountered in scalar divide\n",
      "/var/folders/s5/94w1m15n4zj0rk7rcz62xbv00000gn/T/ipykernel_3833/589877821.py:11: RuntimeWarning: invalid value encountered in scalar divide\n",
      "/var/folders/s5/94w1m15n4zj0rk7rcz62xbv00000gn/T/ipykernel_3833/589877821.py:11: RuntimeWarning: invalid value encountered in scalar divide\n",
      "/var/folders/s5/94w1m15n4zj0rk7rcz62xbv00000gn/T/ipykernel_3833/589877821.py:11: RuntimeWarning: invalid value encountered in scalar divide\n",
      "/var/folders/s5/94w1m15n4zj0rk7rcz62xbv00000gn/T/ipykernel_3833/589877821.py:11: RuntimeWarning: invalid value encountered in scalar divide\n",
      "/var/folders/s5/94w1m15n4zj0rk7rcz62xbv00000gn/T/ipykernel_3833/589877821.py:11: RuntimeWarning: invalid value encountered in scalar divide\n",
      "/var/folders/s5/94w1m15n4zj0rk7rcz62xbv00000gn/T/ipykernel_3833/589877821.py:11: RuntimeWarning: invalid value encountered in scalar divide\n",
      "/var/folders/s5/94w1m15n4zj0rk7rcz62xbv00000gn/T/ipykernel_3833/589877821.py:11: RuntimeWarning: invalid value encountered in scalar divide\n",
      "/var/folders/s5/94w1m15n4zj0rk7rcz62xbv00000gn/T/ipykernel_3833/589877821.py:11: RuntimeWarning: invalid value encountered in scalar divide\n",
      "/var/folders/s5/94w1m15n4zj0rk7rcz62xbv00000gn/T/ipykernel_3833/589877821.py:11: RuntimeWarning: invalid value encountered in scalar divide\n",
      "/var/folders/s5/94w1m15n4zj0rk7rcz62xbv00000gn/T/ipykernel_3833/589877821.py:11: RuntimeWarning: invalid value encountered in scalar divide\n",
      "/var/folders/s5/94w1m15n4zj0rk7rcz62xbv00000gn/T/ipykernel_3833/589877821.py:11: RuntimeWarning: invalid value encountered in scalar divide\n",
      "/var/folders/s5/94w1m15n4zj0rk7rcz62xbv00000gn/T/ipykernel_3833/589877821.py:11: RuntimeWarning: invalid value encountered in scalar divide\n",
      "/var/folders/s5/94w1m15n4zj0rk7rcz62xbv00000gn/T/ipykernel_3833/589877821.py:11: RuntimeWarning: invalid value encountered in scalar divide\n",
      "/var/folders/s5/94w1m15n4zj0rk7rcz62xbv00000gn/T/ipykernel_3833/589877821.py:11: RuntimeWarning: invalid value encountered in scalar divide\n",
      "/var/folders/s5/94w1m15n4zj0rk7rcz62xbv00000gn/T/ipykernel_3833/589877821.py:11: RuntimeWarning: invalid value encountered in scalar divide\n",
      "/var/folders/s5/94w1m15n4zj0rk7rcz62xbv00000gn/T/ipykernel_3833/589877821.py:11: RuntimeWarning: invalid value encountered in scalar divide\n",
      "/var/folders/s5/94w1m15n4zj0rk7rcz62xbv00000gn/T/ipykernel_3833/589877821.py:11: RuntimeWarning: invalid value encountered in scalar divide\n",
      "/var/folders/s5/94w1m15n4zj0rk7rcz62xbv00000gn/T/ipykernel_3833/589877821.py:11: RuntimeWarning: invalid value encountered in scalar divide\n",
      "/var/folders/s5/94w1m15n4zj0rk7rcz62xbv00000gn/T/ipykernel_3833/589877821.py:11: RuntimeWarning: invalid value encountered in scalar divide\n",
      "/var/folders/s5/94w1m15n4zj0rk7rcz62xbv00000gn/T/ipykernel_3833/589877821.py:11: RuntimeWarning: invalid value encountered in scalar divide\n",
      "/var/folders/s5/94w1m15n4zj0rk7rcz62xbv00000gn/T/ipykernel_3833/589877821.py:11: RuntimeWarning: invalid value encountered in scalar divide\n",
      "/var/folders/s5/94w1m15n4zj0rk7rcz62xbv00000gn/T/ipykernel_3833/589877821.py:11: RuntimeWarning: invalid value encountered in scalar divide\n",
      "/var/folders/s5/94w1m15n4zj0rk7rcz62xbv00000gn/T/ipykernel_3833/589877821.py:11: RuntimeWarning: invalid value encountered in scalar divide\n",
      "/var/folders/s5/94w1m15n4zj0rk7rcz62xbv00000gn/T/ipykernel_3833/589877821.py:11: RuntimeWarning: invalid value encountered in scalar divide\n",
      "/var/folders/s5/94w1m15n4zj0rk7rcz62xbv00000gn/T/ipykernel_3833/589877821.py:11: RuntimeWarning: invalid value encountered in scalar divide\n",
      "/var/folders/s5/94w1m15n4zj0rk7rcz62xbv00000gn/T/ipykernel_3833/589877821.py:11: RuntimeWarning: invalid value encountered in scalar divide\n",
      "/var/folders/s5/94w1m15n4zj0rk7rcz62xbv00000gn/T/ipykernel_3833/589877821.py:11: RuntimeWarning: invalid value encountered in scalar divide\n",
      "/var/folders/s5/94w1m15n4zj0rk7rcz62xbv00000gn/T/ipykernel_3833/589877821.py:11: RuntimeWarning: invalid value encountered in scalar divide\n",
      "/var/folders/s5/94w1m15n4zj0rk7rcz62xbv00000gn/T/ipykernel_3833/589877821.py:11: RuntimeWarning: invalid value encountered in scalar divide\n",
      "/var/folders/s5/94w1m15n4zj0rk7rcz62xbv00000gn/T/ipykernel_3833/589877821.py:11: RuntimeWarning: invalid value encountered in scalar divide\n",
      "/var/folders/s5/94w1m15n4zj0rk7rcz62xbv00000gn/T/ipykernel_3833/589877821.py:11: RuntimeWarning: invalid value encountered in scalar divide\n",
      "/var/folders/s5/94w1m15n4zj0rk7rcz62xbv00000gn/T/ipykernel_3833/589877821.py:11: RuntimeWarning: invalid value encountered in scalar divide\n",
      "/var/folders/s5/94w1m15n4zj0rk7rcz62xbv00000gn/T/ipykernel_3833/589877821.py:11: RuntimeWarning: invalid value encountered in scalar divide\n",
      "/var/folders/s5/94w1m15n4zj0rk7rcz62xbv00000gn/T/ipykernel_3833/589877821.py:11: RuntimeWarning: invalid value encountered in scalar divide\n",
      "/var/folders/s5/94w1m15n4zj0rk7rcz62xbv00000gn/T/ipykernel_3833/589877821.py:11: RuntimeWarning: invalid value encountered in scalar divide\n",
      "/var/folders/s5/94w1m15n4zj0rk7rcz62xbv00000gn/T/ipykernel_3833/589877821.py:11: RuntimeWarning: invalid value encountered in scalar divide\n",
      "/var/folders/s5/94w1m15n4zj0rk7rcz62xbv00000gn/T/ipykernel_3833/589877821.py:11: RuntimeWarning: invalid value encountered in scalar divide\n",
      "/var/folders/s5/94w1m15n4zj0rk7rcz62xbv00000gn/T/ipykernel_3833/589877821.py:11: RuntimeWarning: invalid value encountered in scalar divide\n",
      "/var/folders/s5/94w1m15n4zj0rk7rcz62xbv00000gn/T/ipykernel_3833/589877821.py:11: RuntimeWarning: invalid value encountered in scalar divide\n",
      "/var/folders/s5/94w1m15n4zj0rk7rcz62xbv00000gn/T/ipykernel_3833/589877821.py:11: RuntimeWarning: invalid value encountered in scalar divide\n",
      "/var/folders/s5/94w1m15n4zj0rk7rcz62xbv00000gn/T/ipykernel_3833/589877821.py:11: RuntimeWarning: invalid value encountered in scalar divide\n",
      "/var/folders/s5/94w1m15n4zj0rk7rcz62xbv00000gn/T/ipykernel_3833/589877821.py:11: RuntimeWarning: invalid value encountered in scalar divide\n",
      "/var/folders/s5/94w1m15n4zj0rk7rcz62xbv00000gn/T/ipykernel_3833/589877821.py:11: RuntimeWarning: invalid value encountered in scalar divide\n",
      "/var/folders/s5/94w1m15n4zj0rk7rcz62xbv00000gn/T/ipykernel_3833/589877821.py:11: RuntimeWarning: invalid value encountered in scalar divide\n",
      "/var/folders/s5/94w1m15n4zj0rk7rcz62xbv00000gn/T/ipykernel_3833/589877821.py:11: RuntimeWarning: invalid value encountered in scalar divide\n",
      "/var/folders/s5/94w1m15n4zj0rk7rcz62xbv00000gn/T/ipykernel_3833/589877821.py:11: RuntimeWarning: invalid value encountered in scalar divide\n",
      "/var/folders/s5/94w1m15n4zj0rk7rcz62xbv00000gn/T/ipykernel_3833/589877821.py:11: RuntimeWarning: invalid value encountered in scalar divide\n",
      "/var/folders/s5/94w1m15n4zj0rk7rcz62xbv00000gn/T/ipykernel_3833/589877821.py:11: RuntimeWarning: invalid value encountered in scalar divide\n",
      "/var/folders/s5/94w1m15n4zj0rk7rcz62xbv00000gn/T/ipykernel_3833/589877821.py:11: RuntimeWarning: invalid value encountered in scalar divide\n",
      "/var/folders/s5/94w1m15n4zj0rk7rcz62xbv00000gn/T/ipykernel_3833/589877821.py:11: RuntimeWarning: invalid value encountered in scalar divide\n",
      "/var/folders/s5/94w1m15n4zj0rk7rcz62xbv00000gn/T/ipykernel_3833/589877821.py:11: RuntimeWarning: invalid value encountered in scalar divide\n",
      "/var/folders/s5/94w1m15n4zj0rk7rcz62xbv00000gn/T/ipykernel_3833/589877821.py:11: RuntimeWarning: invalid value encountered in scalar divide\n",
      "/var/folders/s5/94w1m15n4zj0rk7rcz62xbv00000gn/T/ipykernel_3833/589877821.py:11: RuntimeWarning: invalid value encountered in scalar divide\n",
      "/var/folders/s5/94w1m15n4zj0rk7rcz62xbv00000gn/T/ipykernel_3833/589877821.py:11: RuntimeWarning: invalid value encountered in scalar divide\n",
      "/var/folders/s5/94w1m15n4zj0rk7rcz62xbv00000gn/T/ipykernel_3833/589877821.py:11: RuntimeWarning: invalid value encountered in scalar divide\n",
      "/var/folders/s5/94w1m15n4zj0rk7rcz62xbv00000gn/T/ipykernel_3833/589877821.py:11: RuntimeWarning: invalid value encountered in scalar divide\n",
      "/var/folders/s5/94w1m15n4zj0rk7rcz62xbv00000gn/T/ipykernel_3833/589877821.py:11: RuntimeWarning: invalid value encountered in scalar divide\n",
      "/var/folders/s5/94w1m15n4zj0rk7rcz62xbv00000gn/T/ipykernel_3833/589877821.py:11: RuntimeWarning: invalid value encountered in scalar divide\n",
      "/var/folders/s5/94w1m15n4zj0rk7rcz62xbv00000gn/T/ipykernel_3833/589877821.py:11: RuntimeWarning: invalid value encountered in scalar divide\n",
      "/var/folders/s5/94w1m15n4zj0rk7rcz62xbv00000gn/T/ipykernel_3833/589877821.py:11: RuntimeWarning: invalid value encountered in scalar divide\n",
      "/var/folders/s5/94w1m15n4zj0rk7rcz62xbv00000gn/T/ipykernel_3833/589877821.py:11: RuntimeWarning: invalid value encountered in scalar divide\n",
      "/var/folders/s5/94w1m15n4zj0rk7rcz62xbv00000gn/T/ipykernel_3833/589877821.py:11: RuntimeWarning: invalid value encountered in scalar divide\n",
      "/var/folders/s5/94w1m15n4zj0rk7rcz62xbv00000gn/T/ipykernel_3833/589877821.py:11: RuntimeWarning: invalid value encountered in scalar divide\n",
      "/var/folders/s5/94w1m15n4zj0rk7rcz62xbv00000gn/T/ipykernel_3833/589877821.py:11: RuntimeWarning: invalid value encountered in scalar divide\n",
      "/var/folders/s5/94w1m15n4zj0rk7rcz62xbv00000gn/T/ipykernel_3833/589877821.py:11: RuntimeWarning: invalid value encountered in scalar divide\n",
      "/var/folders/s5/94w1m15n4zj0rk7rcz62xbv00000gn/T/ipykernel_3833/589877821.py:11: RuntimeWarning: invalid value encountered in scalar divide\n",
      "/var/folders/s5/94w1m15n4zj0rk7rcz62xbv00000gn/T/ipykernel_3833/589877821.py:11: RuntimeWarning: invalid value encountered in scalar divide\n",
      "/var/folders/s5/94w1m15n4zj0rk7rcz62xbv00000gn/T/ipykernel_3833/589877821.py:11: RuntimeWarning: invalid value encountered in scalar divide\n",
      "/var/folders/s5/94w1m15n4zj0rk7rcz62xbv00000gn/T/ipykernel_3833/589877821.py:11: RuntimeWarning: invalid value encountered in scalar divide\n",
      "/var/folders/s5/94w1m15n4zj0rk7rcz62xbv00000gn/T/ipykernel_3833/589877821.py:11: RuntimeWarning: invalid value encountered in scalar divide\n",
      "/var/folders/s5/94w1m15n4zj0rk7rcz62xbv00000gn/T/ipykernel_3833/589877821.py:11: RuntimeWarning: invalid value encountered in scalar divide\n",
      "/var/folders/s5/94w1m15n4zj0rk7rcz62xbv00000gn/T/ipykernel_3833/589877821.py:11: RuntimeWarning: invalid value encountered in scalar divide\n",
      "/var/folders/s5/94w1m15n4zj0rk7rcz62xbv00000gn/T/ipykernel_3833/589877821.py:11: RuntimeWarning: invalid value encountered in scalar divide\n",
      "/var/folders/s5/94w1m15n4zj0rk7rcz62xbv00000gn/T/ipykernel_3833/589877821.py:11: RuntimeWarning: invalid value encountered in scalar divide\n",
      "/var/folders/s5/94w1m15n4zj0rk7rcz62xbv00000gn/T/ipykernel_3833/589877821.py:11: RuntimeWarning: invalid value encountered in scalar divide\n",
      "/var/folders/s5/94w1m15n4zj0rk7rcz62xbv00000gn/T/ipykernel_3833/589877821.py:11: RuntimeWarning: invalid value encountered in scalar divide\n",
      "/var/folders/s5/94w1m15n4zj0rk7rcz62xbv00000gn/T/ipykernel_3833/589877821.py:11: RuntimeWarning: invalid value encountered in scalar divide\n",
      "/var/folders/s5/94w1m15n4zj0rk7rcz62xbv00000gn/T/ipykernel_3833/589877821.py:11: RuntimeWarning: invalid value encountered in scalar divide\n",
      "/var/folders/s5/94w1m15n4zj0rk7rcz62xbv00000gn/T/ipykernel_3833/589877821.py:11: RuntimeWarning: invalid value encountered in scalar divide\n",
      "/var/folders/s5/94w1m15n4zj0rk7rcz62xbv00000gn/T/ipykernel_3833/589877821.py:11: RuntimeWarning: invalid value encountered in scalar divide\n",
      "/var/folders/s5/94w1m15n4zj0rk7rcz62xbv00000gn/T/ipykernel_3833/589877821.py:11: RuntimeWarning: invalid value encountered in scalar divide\n",
      "/var/folders/s5/94w1m15n4zj0rk7rcz62xbv00000gn/T/ipykernel_3833/589877821.py:11: RuntimeWarning: invalid value encountered in scalar divide\n",
      "/var/folders/s5/94w1m15n4zj0rk7rcz62xbv00000gn/T/ipykernel_3833/589877821.py:11: RuntimeWarning: invalid value encountered in scalar divide\n",
      "/var/folders/s5/94w1m15n4zj0rk7rcz62xbv00000gn/T/ipykernel_3833/589877821.py:11: RuntimeWarning: invalid value encountered in scalar divide\n",
      "/var/folders/s5/94w1m15n4zj0rk7rcz62xbv00000gn/T/ipykernel_3833/589877821.py:11: RuntimeWarning: invalid value encountered in scalar divide\n",
      "/var/folders/s5/94w1m15n4zj0rk7rcz62xbv00000gn/T/ipykernel_3833/589877821.py:11: RuntimeWarning: invalid value encountered in scalar divide\n",
      "/var/folders/s5/94w1m15n4zj0rk7rcz62xbv00000gn/T/ipykernel_3833/589877821.py:11: RuntimeWarning: invalid value encountered in scalar divide\n",
      "/var/folders/s5/94w1m15n4zj0rk7rcz62xbv00000gn/T/ipykernel_3833/589877821.py:11: RuntimeWarning: invalid value encountered in scalar divide\n",
      "/var/folders/s5/94w1m15n4zj0rk7rcz62xbv00000gn/T/ipykernel_3833/589877821.py:11: RuntimeWarning: invalid value encountered in scalar divide\n",
      "/var/folders/s5/94w1m15n4zj0rk7rcz62xbv00000gn/T/ipykernel_3833/589877821.py:11: RuntimeWarning: invalid value encountered in scalar divide\n",
      "/var/folders/s5/94w1m15n4zj0rk7rcz62xbv00000gn/T/ipykernel_3833/589877821.py:11: RuntimeWarning: invalid value encountered in scalar divide\n",
      "/var/folders/s5/94w1m15n4zj0rk7rcz62xbv00000gn/T/ipykernel_3833/589877821.py:11: RuntimeWarning: invalid value encountered in scalar divide\n",
      "/var/folders/s5/94w1m15n4zj0rk7rcz62xbv00000gn/T/ipykernel_3833/589877821.py:11: RuntimeWarning: invalid value encountered in scalar divide\n",
      "/var/folders/s5/94w1m15n4zj0rk7rcz62xbv00000gn/T/ipykernel_3833/589877821.py:11: RuntimeWarning: invalid value encountered in scalar divide\n",
      "/var/folders/s5/94w1m15n4zj0rk7rcz62xbv00000gn/T/ipykernel_3833/589877821.py:11: RuntimeWarning: invalid value encountered in scalar divide\n",
      "/var/folders/s5/94w1m15n4zj0rk7rcz62xbv00000gn/T/ipykernel_3833/589877821.py:11: RuntimeWarning: invalid value encountered in scalar divide\n",
      "/var/folders/s5/94w1m15n4zj0rk7rcz62xbv00000gn/T/ipykernel_3833/589877821.py:11: RuntimeWarning: invalid value encountered in scalar divide\n",
      "/var/folders/s5/94w1m15n4zj0rk7rcz62xbv00000gn/T/ipykernel_3833/589877821.py:11: RuntimeWarning: invalid value encountered in scalar divide\n",
      "/var/folders/s5/94w1m15n4zj0rk7rcz62xbv00000gn/T/ipykernel_3833/589877821.py:11: RuntimeWarning: invalid value encountered in scalar divide\n",
      "/var/folders/s5/94w1m15n4zj0rk7rcz62xbv00000gn/T/ipykernel_3833/589877821.py:11: RuntimeWarning: invalid value encountered in scalar divide\n",
      "/var/folders/s5/94w1m15n4zj0rk7rcz62xbv00000gn/T/ipykernel_3833/589877821.py:11: RuntimeWarning: invalid value encountered in scalar divide\n",
      "/var/folders/s5/94w1m15n4zj0rk7rcz62xbv00000gn/T/ipykernel_3833/589877821.py:11: RuntimeWarning: invalid value encountered in scalar divide\n",
      "/var/folders/s5/94w1m15n4zj0rk7rcz62xbv00000gn/T/ipykernel_3833/589877821.py:11: RuntimeWarning: invalid value encountered in scalar divide\n",
      "/var/folders/s5/94w1m15n4zj0rk7rcz62xbv00000gn/T/ipykernel_3833/589877821.py:11: RuntimeWarning: invalid value encountered in scalar divide\n",
      "/var/folders/s5/94w1m15n4zj0rk7rcz62xbv00000gn/T/ipykernel_3833/589877821.py:11: RuntimeWarning: invalid value encountered in scalar divide\n",
      "/var/folders/s5/94w1m15n4zj0rk7rcz62xbv00000gn/T/ipykernel_3833/589877821.py:11: RuntimeWarning: invalid value encountered in scalar divide\n",
      "/var/folders/s5/94w1m15n4zj0rk7rcz62xbv00000gn/T/ipykernel_3833/589877821.py:11: RuntimeWarning: invalid value encountered in scalar divide\n",
      "/var/folders/s5/94w1m15n4zj0rk7rcz62xbv00000gn/T/ipykernel_3833/589877821.py:11: RuntimeWarning: invalid value encountered in scalar divide\n",
      "/var/folders/s5/94w1m15n4zj0rk7rcz62xbv00000gn/T/ipykernel_3833/589877821.py:11: RuntimeWarning: invalid value encountered in scalar divide\n",
      "/var/folders/s5/94w1m15n4zj0rk7rcz62xbv00000gn/T/ipykernel_3833/589877821.py:11: RuntimeWarning: invalid value encountered in scalar divide\n",
      "/var/folders/s5/94w1m15n4zj0rk7rcz62xbv00000gn/T/ipykernel_3833/589877821.py:11: RuntimeWarning: invalid value encountered in scalar divide\n",
      "/var/folders/s5/94w1m15n4zj0rk7rcz62xbv00000gn/T/ipykernel_3833/589877821.py:11: RuntimeWarning: invalid value encountered in scalar divide\n",
      "/var/folders/s5/94w1m15n4zj0rk7rcz62xbv00000gn/T/ipykernel_3833/589877821.py:11: RuntimeWarning: invalid value encountered in scalar divide\n",
      "/var/folders/s5/94w1m15n4zj0rk7rcz62xbv00000gn/T/ipykernel_3833/589877821.py:11: RuntimeWarning: invalid value encountered in scalar divide\n",
      "/var/folders/s5/94w1m15n4zj0rk7rcz62xbv00000gn/T/ipykernel_3833/589877821.py:11: RuntimeWarning: invalid value encountered in scalar divide\n",
      "/var/folders/s5/94w1m15n4zj0rk7rcz62xbv00000gn/T/ipykernel_3833/589877821.py:11: RuntimeWarning: invalid value encountered in scalar divide\n",
      "/var/folders/s5/94w1m15n4zj0rk7rcz62xbv00000gn/T/ipykernel_3833/589877821.py:11: RuntimeWarning: invalid value encountered in scalar divide\n",
      "/var/folders/s5/94w1m15n4zj0rk7rcz62xbv00000gn/T/ipykernel_3833/589877821.py:11: RuntimeWarning: invalid value encountered in scalar divide\n",
      "/var/folders/s5/94w1m15n4zj0rk7rcz62xbv00000gn/T/ipykernel_3833/589877821.py:11: RuntimeWarning: invalid value encountered in scalar divide\n",
      "/var/folders/s5/94w1m15n4zj0rk7rcz62xbv00000gn/T/ipykernel_3833/589877821.py:11: RuntimeWarning: invalid value encountered in scalar divide\n",
      "/var/folders/s5/94w1m15n4zj0rk7rcz62xbv00000gn/T/ipykernel_3833/589877821.py:11: RuntimeWarning: invalid value encountered in scalar divide\n",
      "/var/folders/s5/94w1m15n4zj0rk7rcz62xbv00000gn/T/ipykernel_3833/589877821.py:11: RuntimeWarning: invalid value encountered in scalar divide\n",
      "/var/folders/s5/94w1m15n4zj0rk7rcz62xbv00000gn/T/ipykernel_3833/589877821.py:11: RuntimeWarning: invalid value encountered in scalar divide\n",
      "/var/folders/s5/94w1m15n4zj0rk7rcz62xbv00000gn/T/ipykernel_3833/589877821.py:11: RuntimeWarning: invalid value encountered in scalar divide\n",
      "/var/folders/s5/94w1m15n4zj0rk7rcz62xbv00000gn/T/ipykernel_3833/589877821.py:11: RuntimeWarning: invalid value encountered in scalar divide\n",
      "/var/folders/s5/94w1m15n4zj0rk7rcz62xbv00000gn/T/ipykernel_3833/589877821.py:11: RuntimeWarning: invalid value encountered in scalar divide\n",
      "/var/folders/s5/94w1m15n4zj0rk7rcz62xbv00000gn/T/ipykernel_3833/589877821.py:11: RuntimeWarning: invalid value encountered in scalar divide\n",
      "/var/folders/s5/94w1m15n4zj0rk7rcz62xbv00000gn/T/ipykernel_3833/589877821.py:11: RuntimeWarning: invalid value encountered in scalar divide\n",
      "/var/folders/s5/94w1m15n4zj0rk7rcz62xbv00000gn/T/ipykernel_3833/589877821.py:11: RuntimeWarning: invalid value encountered in scalar divide\n",
      "/var/folders/s5/94w1m15n4zj0rk7rcz62xbv00000gn/T/ipykernel_3833/589877821.py:11: RuntimeWarning: invalid value encountered in scalar divide\n",
      "/var/folders/s5/94w1m15n4zj0rk7rcz62xbv00000gn/T/ipykernel_3833/589877821.py:11: RuntimeWarning: invalid value encountered in scalar divide\n",
      "/var/folders/s5/94w1m15n4zj0rk7rcz62xbv00000gn/T/ipykernel_3833/589877821.py:11: RuntimeWarning: invalid value encountered in scalar divide\n",
      "/var/folders/s5/94w1m15n4zj0rk7rcz62xbv00000gn/T/ipykernel_3833/589877821.py:11: RuntimeWarning: invalid value encountered in scalar divide\n",
      "/var/folders/s5/94w1m15n4zj0rk7rcz62xbv00000gn/T/ipykernel_3833/589877821.py:11: RuntimeWarning: invalid value encountered in scalar divide\n",
      "/var/folders/s5/94w1m15n4zj0rk7rcz62xbv00000gn/T/ipykernel_3833/589877821.py:11: RuntimeWarning: invalid value encountered in scalar divide\n",
      "/var/folders/s5/94w1m15n4zj0rk7rcz62xbv00000gn/T/ipykernel_3833/589877821.py:11: RuntimeWarning: invalid value encountered in scalar divide\n",
      "/var/folders/s5/94w1m15n4zj0rk7rcz62xbv00000gn/T/ipykernel_3833/589877821.py:11: RuntimeWarning: invalid value encountered in scalar divide\n",
      "/var/folders/s5/94w1m15n4zj0rk7rcz62xbv00000gn/T/ipykernel_3833/589877821.py:11: RuntimeWarning: invalid value encountered in scalar divide\n",
      "/var/folders/s5/94w1m15n4zj0rk7rcz62xbv00000gn/T/ipykernel_3833/589877821.py:11: RuntimeWarning: invalid value encountered in scalar divide\n",
      "/var/folders/s5/94w1m15n4zj0rk7rcz62xbv00000gn/T/ipykernel_3833/589877821.py:11: RuntimeWarning: invalid value encountered in scalar divide\n",
      "/var/folders/s5/94w1m15n4zj0rk7rcz62xbv00000gn/T/ipykernel_3833/589877821.py:11: RuntimeWarning: invalid value encountered in scalar divide\n",
      "/var/folders/s5/94w1m15n4zj0rk7rcz62xbv00000gn/T/ipykernel_3833/589877821.py:11: RuntimeWarning: invalid value encountered in scalar divide\n",
      "/var/folders/s5/94w1m15n4zj0rk7rcz62xbv00000gn/T/ipykernel_3833/589877821.py:11: RuntimeWarning: invalid value encountered in scalar divide\n",
      "/var/folders/s5/94w1m15n4zj0rk7rcz62xbv00000gn/T/ipykernel_3833/589877821.py:11: RuntimeWarning: invalid value encountered in scalar divide\n",
      "/var/folders/s5/94w1m15n4zj0rk7rcz62xbv00000gn/T/ipykernel_3833/589877821.py:11: RuntimeWarning: invalid value encountered in scalar divide\n",
      "/var/folders/s5/94w1m15n4zj0rk7rcz62xbv00000gn/T/ipykernel_3833/589877821.py:11: RuntimeWarning: invalid value encountered in scalar divide\n",
      "/var/folders/s5/94w1m15n4zj0rk7rcz62xbv00000gn/T/ipykernel_3833/589877821.py:11: RuntimeWarning: invalid value encountered in scalar divide\n",
      "/var/folders/s5/94w1m15n4zj0rk7rcz62xbv00000gn/T/ipykernel_3833/589877821.py:11: RuntimeWarning: invalid value encountered in scalar divide\n",
      "/var/folders/s5/94w1m15n4zj0rk7rcz62xbv00000gn/T/ipykernel_3833/589877821.py:11: RuntimeWarning: invalid value encountered in scalar divide\n",
      "/var/folders/s5/94w1m15n4zj0rk7rcz62xbv00000gn/T/ipykernel_3833/589877821.py:11: RuntimeWarning: invalid value encountered in scalar divide\n",
      "/var/folders/s5/94w1m15n4zj0rk7rcz62xbv00000gn/T/ipykernel_3833/589877821.py:11: RuntimeWarning: invalid value encountered in scalar divide\n",
      "/var/folders/s5/94w1m15n4zj0rk7rcz62xbv00000gn/T/ipykernel_3833/589877821.py:11: RuntimeWarning: invalid value encountered in scalar divide\n",
      "/var/folders/s5/94w1m15n4zj0rk7rcz62xbv00000gn/T/ipykernel_3833/589877821.py:11: RuntimeWarning: invalid value encountered in scalar divide\n",
      "/var/folders/s5/94w1m15n4zj0rk7rcz62xbv00000gn/T/ipykernel_3833/589877821.py:11: RuntimeWarning: invalid value encountered in scalar divide\n",
      "/var/folders/s5/94w1m15n4zj0rk7rcz62xbv00000gn/T/ipykernel_3833/589877821.py:11: RuntimeWarning: invalid value encountered in scalar divide\n",
      "/var/folders/s5/94w1m15n4zj0rk7rcz62xbv00000gn/T/ipykernel_3833/589877821.py:11: RuntimeWarning: invalid value encountered in scalar divide\n",
      "/var/folders/s5/94w1m15n4zj0rk7rcz62xbv00000gn/T/ipykernel_3833/589877821.py:11: RuntimeWarning: invalid value encountered in scalar divide\n",
      "/var/folders/s5/94w1m15n4zj0rk7rcz62xbv00000gn/T/ipykernel_3833/589877821.py:11: RuntimeWarning: invalid value encountered in scalar divide\n",
      "/var/folders/s5/94w1m15n4zj0rk7rcz62xbv00000gn/T/ipykernel_3833/589877821.py:11: RuntimeWarning: invalid value encountered in scalar divide\n",
      "/var/folders/s5/94w1m15n4zj0rk7rcz62xbv00000gn/T/ipykernel_3833/589877821.py:11: RuntimeWarning: invalid value encountered in scalar divide\n",
      "/var/folders/s5/94w1m15n4zj0rk7rcz62xbv00000gn/T/ipykernel_3833/589877821.py:11: RuntimeWarning: invalid value encountered in scalar divide\n",
      "/var/folders/s5/94w1m15n4zj0rk7rcz62xbv00000gn/T/ipykernel_3833/589877821.py:11: RuntimeWarning: invalid value encountered in scalar divide\n",
      "/var/folders/s5/94w1m15n4zj0rk7rcz62xbv00000gn/T/ipykernel_3833/589877821.py:11: RuntimeWarning: invalid value encountered in scalar divide\n",
      "/var/folders/s5/94w1m15n4zj0rk7rcz62xbv00000gn/T/ipykernel_3833/589877821.py:11: RuntimeWarning: invalid value encountered in scalar divide\n",
      "/var/folders/s5/94w1m15n4zj0rk7rcz62xbv00000gn/T/ipykernel_3833/589877821.py:11: RuntimeWarning: invalid value encountered in scalar divide\n",
      "/var/folders/s5/94w1m15n4zj0rk7rcz62xbv00000gn/T/ipykernel_3833/589877821.py:11: RuntimeWarning: invalid value encountered in scalar divide\n",
      "/var/folders/s5/94w1m15n4zj0rk7rcz62xbv00000gn/T/ipykernel_3833/589877821.py:11: RuntimeWarning: invalid value encountered in scalar divide\n",
      "/var/folders/s5/94w1m15n4zj0rk7rcz62xbv00000gn/T/ipykernel_3833/589877821.py:11: RuntimeWarning: invalid value encountered in scalar divide\n",
      "/var/folders/s5/94w1m15n4zj0rk7rcz62xbv00000gn/T/ipykernel_3833/589877821.py:11: RuntimeWarning: invalid value encountered in scalar divide\n",
      "/var/folders/s5/94w1m15n4zj0rk7rcz62xbv00000gn/T/ipykernel_3833/589877821.py:11: RuntimeWarning: invalid value encountered in scalar divide\n",
      "/var/folders/s5/94w1m15n4zj0rk7rcz62xbv00000gn/T/ipykernel_3833/589877821.py:11: RuntimeWarning: invalid value encountered in scalar divide\n",
      "/var/folders/s5/94w1m15n4zj0rk7rcz62xbv00000gn/T/ipykernel_3833/589877821.py:11: RuntimeWarning: invalid value encountered in scalar divide\n",
      "23/12/21 16:03:05 WARN DAGScheduler: Broadcasting large task binary with size 1638.4 KiB\n"
     ]
    },
    {
     "name": "stdout",
     "output_type": "stream",
     "text": [
      "+---------+-----+\n",
      "|subreddit|count|\n",
      "+---------+-----+\n",
      "|formula1 |3    |\n",
      "|cars     |1    |\n",
      "+---------+-----+\n",
      "\n"
     ]
    },
    {
     "name": "stderr",
     "output_type": "stream",
     "text": [
      "23/12/21 16:03:05 WARN DAGScheduler: Broadcasting large task binary with size 1655.8 KiB\n",
      "23/12/21 16:03:05 WARN DAGScheduler: Broadcasting large task binary with size 1654.0 KiB\n",
      "                                                                                \r"
     ]
    }
   ],
   "source": [
    "# Group Subreddits by content with highest cosine similarity(Greater than 0.7 similarity)\n",
    "tp_reco_df = reddit_data_with_similarity.select(\"subreddit\", \"cleaned_array\", \"cosine_similarity\").filter(reddit_data_with_similarity.cosine_similarity>0.5).groupBy(\"subreddit\").count().orderBy(\"count\",ascending=False)\n",
    "tp_reco_df.show(5, truncate=False)"
   ]
  },
  {
   "cell_type": "code",
   "execution_count": 38,
   "id": "8ee67015",
   "metadata": {},
   "outputs": [],
   "source": [
    "# Stop the Spark session\n",
    "spark.stop()"
   ]
  }
 ],
 "metadata": {
  "kernelspec": {
   "display_name": "Python 3",
   "language": "python",
   "name": "python3"
  },
  "language_info": {
   "codemirror_mode": {
    "name": "ipython",
    "version": 3
   },
   "file_extension": ".py",
   "mimetype": "text/x-python",
   "name": "python",
   "nbconvert_exporter": "python",
   "pygments_lexer": "ipython3",
   "version": "3.11.5"
  }
 },
 "nbformat": 4,
 "nbformat_minor": 5
}
